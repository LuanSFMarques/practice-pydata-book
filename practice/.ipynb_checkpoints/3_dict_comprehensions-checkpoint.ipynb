{
 "cells": [
  {
   "cell_type": "markdown",
   "id": "c77fcb0c-ab15-4ac1-a27f-880ca2e89e8b",
   "metadata": {},
   "source": [
    "## Exercícios de dict comprehensions (5)\n",
    "\n",
    "1. Dada a lista names = ['Alice', 'Bob', 'Charlie'], crie um dicionário que mapeie cada nome para o seu comprimento: {'Alice': 5, 'Bob': 3, 'Charlie': 7}.\n",
    "\n",
    "2. A partir de nums = [1, 2, 3, 4, 5], use dict comprehension para criar (mapear número para seu quadrado).\n",
    "\n",
    "3. Dadas duas listas keys = ['a', 'b', 'c'] e values = [1, 2, 3], crie um dicionário que associe as chaves aos valores correspondentes.\n",
    "\n",
    "4. A partir de uma string s = \"abracadabra\", crie um dicionário que conte quantas vezes cada caractere aparece (frequência).\n",
    "\n",
    "5. Dado um dicionário prices = {'apple': 0.4, 'banana': 0.25, 'orange': 0.5} e uma lista quantities = {'apple': 5, 'orange': 3}, use dict comprehension para criar um novo dicionário que contenha apenas os produtos para os quais você tem quantidade, com valor total (preço × quantidade). Por exemplo: {'apple': 2.0, 'orange': 1.5}."
   ]
  },
  {
   "cell_type": "markdown",
   "id": "ac5f9d34-7eea-47d5-8fa3-8ec34e0cbde0",
   "metadata": {},
   "source": [
    "## 1)\n"
   ]
  },
  {
   "cell_type": "code",
   "execution_count": 2,
   "id": "a2a158be-0353-4ac4-bd9f-bf98dd61cf6d",
   "metadata": {},
   "outputs": [
    {
     "data": {
      "text/plain": [
       "{'Alice': 5, 'Bob': 3, 'Charlie': 7}"
      ]
     },
     "execution_count": 2,
     "metadata": {},
     "output_type": "execute_result"
    }
   ],
   "source": [
    "# Dada a lista names = ['Alice', 'Bob', 'Charlie'], crie um dicionário que mapeie cada nome para o seu comprimento: {'Alice': 5, 'Bob': 3, 'Charlie': 7}.\n",
    "\n",
    "names = ['Alice', 'Bob', 'Charlie']\n",
    "\n",
    "result = {name:len(name) for name in names}\n",
    "result"
   ]
  },
  {
   "cell_type": "markdown",
   "id": "19c334ee-a556-4898-99f5-3c9aadd64446",
   "metadata": {},
   "source": [
    "## 2)"
   ]
  },
  {
   "cell_type": "code",
   "execution_count": 7,
   "id": "d53565d2-b2e5-4a52-84b8-9c91feb7c198",
   "metadata": {},
   "outputs": [
    {
     "data": {
      "text/plain": [
       "{1: 1, 2: 4, 3: 9, 4: 16, 5: 25}"
      ]
     },
     "execution_count": 7,
     "metadata": {},
     "output_type": "execute_result"
    }
   ],
   "source": [
    "# A partir de nums = [1, 2, 3, 4, 5], use dict comprehension para criar (mapear número para seu quadrado).\n",
    "\n",
    "nums = [1, 2, 3, 4, 5]\n",
    "\n",
    "result = {num:num**2 for num in nums}\n",
    "result"
   ]
  },
  {
   "cell_type": "markdown",
   "id": "878ae0b6-1cff-4fd8-a20a-4a6bc8506bc9",
   "metadata": {},
   "source": [
    "## 3)"
   ]
  },
  {
   "cell_type": "code",
   "execution_count": 13,
   "id": "eb607558-2d54-468f-8696-d2ec815a3e28",
   "metadata": {},
   "outputs": [
    {
     "data": {
      "text/plain": [
       "{'a': 1, 'b': 2, 'c': 3}"
      ]
     },
     "execution_count": 13,
     "metadata": {},
     "output_type": "execute_result"
    }
   ],
   "source": [
    "# Dadas duas listas keys = ['a', 'b', 'c'] e values = [1, 2, 3], crie um dicionário que\n",
    "# associe as chaves aos valores correspondentes.\n",
    "\n",
    "keys = ['a', 'b', 'c']\n",
    "values = [1, 2, 3]\n",
    "\n",
    "result = dict(zip(keys,values))\n",
    "result"
   ]
  },
  {
   "cell_type": "markdown",
   "id": "e00460f3-e0e2-4ab7-807c-939af9796b13",
   "metadata": {},
   "source": [
    "## 4)"
   ]
  },
  {
   "cell_type": "code",
   "execution_count": 14,
   "id": "3533ac81-bee5-4fd1-b2e2-540045bef330",
   "metadata": {},
   "outputs": [
    {
     "data": {
      "text/plain": [
       "{'b': 2, 'a': 5, 'd': 1, 'c': 1, 'r': 2}"
      ]
     },
     "execution_count": 14,
     "metadata": {},
     "output_type": "execute_result"
    }
   ],
   "source": [
    "# A partir de uma string s = \"abracadabra\", crie um dicionário que conte quantas vezes cada caractere aparece (frequência).\n",
    "\n",
    "s = \"abracadabra\"\n",
    "\n",
    "result = {char: s.count(char) for char in set(s)}\n",
    "result"
   ]
  },
  {
   "cell_type": "markdown",
   "id": "b35a2906-a678-43b7-9773-2ee258234bdf",
   "metadata": {},
   "source": [
    "## 5)"
   ]
  },
  {
   "cell_type": "code",
   "execution_count": 23,
   "id": "795946f6-67df-4d2b-a991-c550ad92fba2",
   "metadata": {},
   "outputs": [
    {
     "data": {
      "text/plain": [
       "{'apple': 2.0, 'orange': 1.5}"
      ]
     },
     "execution_count": 23,
     "metadata": {},
     "output_type": "execute_result"
    }
   ],
   "source": [
    "# Dado um dicionário prices = {'apple': 0.4, 'banana': 0.25, 'orange': 0.5} e uma lista\n",
    "# quantities = {'apple': 5, 'orange': 3}, use dict comprehension para criar um novo dicionário\n",
    "# que contenha apenas os produtos para os quais você tem quantidade, com valor total (preço × quantidade).\n",
    "# Por exemplo: {'apple': 2.0, 'orange': 1.5}.\n",
    "\n",
    "prices = {'apple': 0.4, 'banana': 0.25, 'orange': 0.5}\n",
    "quantities = {'apple': 5, 'orange': 3}\n",
    "\n",
    "result = {fruit:prices[fruit]*quant for fruit, quant in quantities.items() if fruit in prices}\n",
    "result"
   ]
  }
 ],
 "metadata": {
  "kernelspec": {
   "display_name": "Python 3 (ipykernel)",
   "language": "python",
   "name": "python3"
  },
  "language_info": {
   "codemirror_mode": {
    "name": "ipython",
    "version": 3
   },
   "file_extension": ".py",
   "mimetype": "text/x-python",
   "name": "python",
   "nbconvert_exporter": "python",
   "pygments_lexer": "ipython3",
   "version": "3.13.1"
  }
 },
 "nbformat": 4,
 "nbformat_minor": 5
}
