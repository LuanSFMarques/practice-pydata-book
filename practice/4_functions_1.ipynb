{
 "cells": [
  {
   "cell_type": "code",
   "execution_count": 59,
   "id": "d445ee72-85f9-4c68-87c6-811b95a0d26f",
   "metadata": {},
   "outputs": [],
   "source": [
    "import re"
   ]
  },
  {
   "cell_type": "markdown",
   "id": "51527be1-d815-40fe-97fe-be3fa90da3a5",
   "metadata": {},
   "source": [
    "## Exercícios de Funções em Python (10)\n",
    "\n",
    "*Baseado na seção 3.2 do livro \"Python for Data Analysis\". Pratique a definição, chamada, escopo e retorno de funções.*\n",
    "\n",
    "1. Crie uma função `soma_quadrados(x, y)` que retorne a soma dos quadrados de dois números.\n",
    "\n",
    "2. Escreva uma função `mensagem(nome)` que imprima uma saudação no formato `\"Olá, [nome]!\"`. A função não deve retornar nada.\n",
    "\n",
    "3. Implemente a função `divisao_segura(x, y)` que retorna o resultado de `x / y`, mas retorna a string `\"Divisão por zero não é permitida\"` se `y == 0`.\n",
    "\n",
    "4. Crie a função `desconto(valor, percentual=10)` que aplica um desconto percentual ao valor. O argumento `percentual` deve ser opcional.\n",
    "\n",
    "5. Escreva a função `limpar_texto(texto)` que remove espaços nas extremidades, pontuações `!?#`, e aplica capitalização estilo título (use `str.strip`, `re.sub` e `str.title`).\n",
    "\n",
    "6. Implemente `multiplicar_lista(lista, fator)` que retorna uma nova lista com todos os elementos multiplicados por um `fator`.\n",
    "\n",
    "7. Escreva a função `estatisticas(lista)` que retorna **três valores**: a média, o menor e o maior valor da lista.\n",
    "\n",
    "8. Crie a função `executar_operacoes(valores, operacoes)` que aplica, em ordem, cada função da lista `operacoes` a cada item da lista `valores`.\n",
    "\n",
    "9. Escreva `acumulador_global(x)` que adiciona `x` a uma variável global chamada `soma_total`. Inicialize `soma_total` fora da função.\n",
    "\n",
    "10. Crie a função `limpar_e_mapear(lista)` que usa `map` junto com `remove_punctuation` para limpar os elementos da lista. Retorne o resultado como lista.\n",
    "\n"
   ]
  },
  {
   "cell_type": "markdown",
   "id": "16d39e71-03f9-4f55-b813-16e39d90671f",
   "metadata": {},
   "source": [
    "# 1)"
   ]
  },
  {
   "cell_type": "code",
   "execution_count": 77,
   "id": "982d1e2c-418e-4e80-afa5-006896596179",
   "metadata": {},
   "outputs": [],
   "source": [
    "# Crie uma função soma_quadrados(x, y) que retorne a soma dos quadrados de dois números."
   ]
  },
  {
   "cell_type": "code",
   "execution_count": 76,
   "id": "512e6695-28b9-4050-b397-303249acfa58",
   "metadata": {},
   "outputs": [
    {
     "data": {
      "text/plain": [
       "125"
      ]
     },
     "execution_count": 76,
     "metadata": {},
     "output_type": "execute_result"
    }
   ],
   "source": [
    "def soma_quadrado(x, y):\n",
    "    return (x**2) + (y**2)\n",
    "    \n",
    "soma_quadrado(5,10)"
   ]
  },
  {
   "cell_type": "markdown",
   "id": "274cc16b-5da2-480d-96eb-70640bfc5c3b",
   "metadata": {},
   "source": [
    "## 2)"
   ]
  },
  {
   "cell_type": "code",
   "execution_count": null,
   "id": "76faa783-5dff-4a4e-b8af-fce607866ae6",
   "metadata": {},
   "outputs": [],
   "source": [
    "# Escreva uma função mensagem(nome) que imprima uma saudação no formato \"Olá, [nome]!\".\n",
    "# A função não deve retornar nada."
   ]
  },
  {
   "cell_type": "code",
   "execution_count": 75,
   "id": "4af7fb86-3b6b-4a3e-b6d2-0d08832a688e",
   "metadata": {},
   "outputs": [
    {
     "name": "stdout",
     "output_type": "stream",
     "text": [
      "Olá, Luan\n"
     ]
    }
   ],
   "source": [
    "def mensagem(nome=\"Mundo\"):\n",
    "    ops = [str.title, str.strip]\n",
    "    for op in ops:\n",
    "        nome = op(nome)\n",
    "    print(f\"Olá, {nome}\")\n",
    "\n",
    "mensagem(\"luan\")"
   ]
  },
  {
   "cell_type": "markdown",
   "id": "ca080ee1-626d-45ac-ab8b-61aadbe4033c",
   "metadata": {},
   "source": [
    "## 3)"
   ]
  },
  {
   "cell_type": "code",
   "execution_count": 74,
   "id": "a7101c84-aa12-4355-897a-40f9ce833512",
   "metadata": {},
   "outputs": [],
   "source": [
    "# Implemente a função divisao_segura(x, y) que retorna o resultado de x / y, mas retorna\n",
    "# a string \"Divisão por zero não é permitida\" se y == 0."
   ]
  },
  {
   "cell_type": "code",
   "execution_count": 39,
   "id": "e184cb34-8744-40ba-a5a5-6bc08afff7ac",
   "metadata": {},
   "outputs": [
    {
     "name": "stdout",
     "output_type": "stream",
     "text": [
      "5.0\n"
     ]
    }
   ],
   "source": [
    "def divisao_segura(dividendo, divisor):\n",
    "    if divisor == 0:\n",
    "        raise Exception(\"Divisão por zero não permitida\")\n",
    "    return dividendo / divisor\n",
    "\n",
    "print(divisao_segura(dividendo = 10, divisor = 2))"
   ]
  },
  {
   "cell_type": "markdown",
   "id": "06e69f44-cd2c-4220-a1b0-040d138b5500",
   "metadata": {},
   "source": [
    "## 4)"
   ]
  },
  {
   "cell_type": "code",
   "execution_count": 73,
   "id": "b1429288-9c40-4246-b331-6c40f1fd023c",
   "metadata": {},
   "outputs": [],
   "source": [
    "# Crie a função `desconto(valor, percentual=10)` que aplica um desconto percentual ao valor.\n",
    "# O argumento `percentual` deve ser opcional."
   ]
  },
  {
   "cell_type": "code",
   "execution_count": 72,
   "id": "1074dd0e-22de-4754-929f-b1402e20de25",
   "metadata": {},
   "outputs": [
    {
     "data": {
      "text/plain": [
       "250.0"
      ]
     },
     "execution_count": 72,
     "metadata": {},
     "output_type": "execute_result"
    }
   ],
   "source": [
    "def desconto(valor, percentual=10):\n",
    "    if percentual > 100:\n",
    "        raise Exception(\"Percentual de desconto deve ser ao máximo 100.\")\n",
    "    return valor * (1 - (percentual/100))\n",
    "\n",
    "desconto(500, 50)"
   ]
  },
  {
   "cell_type": "markdown",
   "id": "deb98731-a514-4b42-8da2-dd0ca6b819e6",
   "metadata": {},
   "source": [
    "## 5)"
   ]
  },
  {
   "cell_type": "code",
   "execution_count": 71,
   "id": "3ee96274-e119-4162-b00f-4538a2198061",
   "metadata": {},
   "outputs": [],
   "source": [
    "# Escreva a função `limpar_texto(texto)` que remove espaços nas extremidades, pontuações `!?#`, e\n",
    "# aplica capitalização estilo título (use `str.strip`, `re.sub` e `str.title`)."
   ]
  },
  {
   "cell_type": "code",
   "execution_count": 70,
   "id": "e9598656-7bb9-4848-88cc-6ef76e84dd99",
   "metadata": {},
   "outputs": [
    {
     "data": {
      "text/plain": [
       "'Teste Mundo'"
      ]
     },
     "execution_count": 70,
     "metadata": {},
     "output_type": "execute_result"
    }
   ],
   "source": [
    "def limpar_texto(texto):\n",
    "    ops = [str.strip, str.title]\n",
    "    re.sub(\"[!#?]\", \"\", texto)\n",
    "    for op in ops:\n",
    "        texto = op(texto)\n",
    "    return texto\n",
    "limpar_texto(\"  teste Mundo\")"
   ]
  },
  {
   "cell_type": "markdown",
   "id": "6bdf4da3-7fae-4dc2-b6ef-f90c267a776f",
   "metadata": {},
   "source": [
    "## 6)"
   ]
  },
  {
   "cell_type": "code",
   "execution_count": 64,
   "id": "41beebaf-6db5-4ef9-949c-3f57a8fced38",
   "metadata": {},
   "outputs": [],
   "source": [
    "# Implemente `multiplicar_lista(lista, fator)` que retorna uma nova lista\n",
    "# com todos os elementos multiplicados por um `fator`."
   ]
  },
  {
   "cell_type": "code",
   "execution_count": 69,
   "id": "cbebc02a-116c-466f-9621-9881c26bbf50",
   "metadata": {},
   "outputs": [
    {
     "data": {
      "text/plain": [
       "[5, 10, 15, 20]"
      ]
     },
     "execution_count": 69,
     "metadata": {},
     "output_type": "execute_result"
    }
   ],
   "source": [
    "def multiplicar_lista(lista, fator):\n",
    "    return [item*fator for item in lista]\n",
    "\n",
    "multiplicar_lista([1,2,3,4], 5)"
   ]
  },
  {
   "cell_type": "markdown",
   "id": "0e511072-9946-4cef-b260-a89d06997313",
   "metadata": {},
   "source": [
    "## 7)"
   ]
  },
  {
   "cell_type": "code",
   "execution_count": 78,
   "id": "853dce97-fa94-4cf1-b713-d4a0522c23e4",
   "metadata": {},
   "outputs": [],
   "source": [
    "# 7. Escreva a função `estatisticas(lista)` que retorna **três valores**: a média, o menor e o maior valor da lista."
   ]
  },
  {
   "cell_type": "code",
   "execution_count": 82,
   "id": "3e5bdd1c-e9cb-40e9-bcaa-98379d8a60d5",
   "metadata": {},
   "outputs": [
    {
     "data": {
      "text/plain": [
       "(3.0, 1, 5)"
      ]
     },
     "execution_count": 82,
     "metadata": {},
     "output_type": "execute_result"
    }
   ],
   "source": [
    "def estatisticas(lista):\n",
    "    media = sum(lista) / len(lista)\n",
    "    return media, min(lista), max(lista)\n",
    "\n",
    "estatisticas([1,2,3,4,5])"
   ]
  },
  {
   "cell_type": "markdown",
   "id": "81f2392f-42a9-4e63-82c2-875cbdb63a69",
   "metadata": {},
   "source": [
    "## 8)"
   ]
  },
  {
   "cell_type": "code",
   "execution_count": 123,
   "id": "e3d11fbe-922e-415d-92f1-f20e462ba402",
   "metadata": {},
   "outputs": [],
   "source": [
    "# 8. Crie a função `executar_operacoes(valores, operacoes)` que aplica, em ordem,\n",
    "# cada função da lista `operacoes` a cada item da lista `valores`."
   ]
  },
  {
   "cell_type": "code",
   "execution_count": 122,
   "id": "664a0e1a-0d84-45a7-abca-5466a6298702",
   "metadata": {},
   "outputs": [
    {
     "data": {
      "text/plain": [
       "[1, 2, 3]"
      ]
     },
     "execution_count": 122,
     "metadata": {},
     "output_type": "execute_result"
    }
   ],
   "source": [
    "def executar_operacoes(valores, operacoes):\n",
    "    new = []\n",
    "    for valor in valores:\n",
    "        for op in operacoes:\n",
    "            valor = op(valor)\n",
    "        new.append(valor)\n",
    "        \n",
    "    return new\n",
    "\n",
    "executar_operacoes([1.1,2.2,-3.3], [abs, round])"
   ]
  },
  {
   "cell_type": "markdown",
   "id": "9e2877db-2dd5-4e7d-9c22-5398fe7040c0",
   "metadata": {},
   "source": [
    "## 9)"
   ]
  },
  {
   "cell_type": "code",
   "execution_count": 121,
   "id": "4c3456ea-03b3-4463-9b37-a6c918f59eba",
   "metadata": {},
   "outputs": [],
   "source": [
    "# Escreva `acumulador_global(x)` que adiciona `x` a uma variável global chamada `soma_total`.\n",
    "# Inicialize `soma_total` fora da função."
   ]
  },
  {
   "cell_type": "code",
   "execution_count": 120,
   "id": "b854a047-26c2-4f5f-86e9-08afd6a3f490",
   "metadata": {},
   "outputs": [
    {
     "data": {
      "text/plain": [
       "20"
      ]
     },
     "execution_count": 120,
     "metadata": {},
     "output_type": "execute_result"
    }
   ],
   "source": [
    "soma_total = 0\n",
    "\n",
    "def acumulador_global(x):\n",
    "    global soma_total\n",
    "    soma_total += x\n",
    "\n",
    "acumulador_global(10)\n",
    "acumulador_global(10)\n",
    "\n",
    "soma_total"
   ]
  },
  {
   "cell_type": "markdown",
   "id": "c9ebab28-0753-4c3a-85a4-f7ccce43df19",
   "metadata": {},
   "source": [
    "## 10)"
   ]
  },
  {
   "cell_type": "code",
   "execution_count": 109,
   "id": "842f1845-5d4a-43a7-9ef4-84c7a229de0e",
   "metadata": {},
   "outputs": [],
   "source": [
    "# Crie a função `limpar_e_mapear(lista)` que usa `map` junto com `remove_punctuation` para\n",
    "# limpar os elementos da lista. Retorne o resultado como lista."
   ]
  },
  {
   "cell_type": "code",
   "execution_count": 119,
   "id": "285ebf7f-9b21-4f1f-843b-fda448fb56fb",
   "metadata": {},
   "outputs": [
    {
     "data": {
      "text/plain": [
       "['oi', 'tchau']"
      ]
     },
     "execution_count": 119,
     "metadata": {},
     "output_type": "execute_result"
    }
   ],
   "source": [
    "def remove_punctuation(value):\n",
    "    return re.sub(r\"[$!#?]\", \"\", value)\n",
    "\n",
    "def limpar_e_mapear(lista):\n",
    "    return list(map(remove_punctuation, lista))\n",
    "\n",
    "test = [\"oi$$\", \"tchau#\"]\n",
    "limpar_e_mapear(test)"
   ]
  }
 ],
 "metadata": {
  "kernelspec": {
   "display_name": "Python 3 (ipykernel)",
   "language": "python",
   "name": "python3"
  },
  "language_info": {
   "codemirror_mode": {
    "name": "ipython",
    "version": 3
   },
   "file_extension": ".py",
   "mimetype": "text/x-python",
   "name": "python",
   "nbconvert_exporter": "python",
   "pygments_lexer": "ipython3",
   "version": "3.10.18"
  }
 },
 "nbformat": 4,
 "nbformat_minor": 5
}
