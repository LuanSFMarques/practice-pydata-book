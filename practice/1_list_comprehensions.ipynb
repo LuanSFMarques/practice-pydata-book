{
 "cells": [
  {
   "cell_type": "markdown",
   "id": "2603a843-6549-4fa6-8bfc-2aa5e33aae17",
   "metadata": {},
   "source": [
    "## Exercícios de list comprehensions (10)\n",
    "\n",
    "1. Dada a lista nums = [1, 2, 3, 4, 5, 6], crie uma lista contendo os quadrados dos números pares somente (isto é, [4, 16, 36]).\n",
    "\n",
    "2. Use list comprehension para combinar duas listas: list1 = ['a', 'b', 'c'], list2 = [1, 2, 3], e produzir ['a1', 'a2', 'a3', 'b1', 'b2', 'b3', 'c1', 'c2', 'c3'].\n",
    "\n",
    "3. A partir de uma string s = \"Data123Science45\", use uma list comprehension para extrair todos os caracteres que sejam dígitos e convertê-los em inteiros (resultado: [1, 2, 3, 4, 5]).\n",
    "\n",
    "4. Dada a lista de strings words = [\"apple\", \"banana\", \"cherry\", \"date\"], crie uma nova lista com o mesmo conteúdo mas em maiúsculas, exceto as palavras com menos de 6 letras (essas devem permanecer iguais).\n",
    "\n",
    "5. Dada uma lista de tuplas pairs = [(1, 2), (3, 4), (5, 6)], use list comprehension para gerar uma lista de somas das tuplas, ou seja, [3, 7, 11].\n",
    "\n",
    "6. Use list comprehension para gerar os 10 primeiros números da sequência de Fibonacci (assumindo que começamos com [0, 1]).\n",
    "\n",
    "7. A partir de uma lista de listas matrix = [[1, 2, 3], [4, 5, 6], [7, 8, 9]], use uma list comprehension dupla para “achatar” (flatten) a matriz em uma única lista: [1, 2, 3, 4, 5, 6, 7, 8, 9].\n",
    "\n",
    "8. Dada a lista temperatures_c = [0, 10, 20, 30], use list comprehension para convertê-la para Fahrenheit com fórmula F = (C * 9/5) + 32.\n",
    "\n",
    "9. A partir de uma lista data = [\"1\", \"2\", \"three\", \"4\", \"five\"], use list comprehension para tentar converter em inteiros os elementos que forem dígitos válidos, e ignorar (filtrar) os que não puderem ser convertidos (resultado: [1, 2, 4]).\n",
    "\n",
    "10. Use list comprehension para gerar (i, j) pares para i variando de 1 a 3 e j de 1 a 2, mas apenas aqueles pares cuja soma i + j seja par. Resultado esperado: [(1,1), (2,2), (3,1), (3,3)?] — ajustar de acordo com o critério."
   ]
  },
  {
   "cell_type": "markdown",
   "id": "69db0cf1-29c6-47b2-b163-1c7a1f500532",
   "metadata": {},
   "source": [
    "## 1)"
   ]
  },
  {
   "cell_type": "code",
   "execution_count": 13,
   "id": "dc42cd83-89b0-4fb2-87f1-0ca1d51e302f",
   "metadata": {},
   "outputs": [
    {
     "data": {
      "text/plain": [
       "[4, 16, 36]"
      ]
     },
     "execution_count": 13,
     "metadata": {},
     "output_type": "execute_result"
    }
   ],
   "source": [
    "# Dada a lista nums = [1, 2, 3, 4, 5, 6], crie uma lista contendo os quadrados dos números pares somente (isto é, [4, 16, 36]).\n",
    "nums = [1, 2, 3, 4, 5, 6]\n",
    "\n",
    "result = [num**2 for num in nums if num % 2 == 0]\n",
    "result"
   ]
  },
  {
   "cell_type": "markdown",
   "id": "77b646ad-385b-4979-a0e4-0a4e55ceeca6",
   "metadata": {},
   "source": [
    "## 2)"
   ]
  },
  {
   "cell_type": "code",
   "execution_count": 12,
   "id": "95e2d98b-5964-4eeb-bc16-dcb2853cf999",
   "metadata": {},
   "outputs": [
    {
     "data": {
      "text/plain": [
       "['a1', 'a2', 'a3', 'b1', 'b2', 'b3', 'c1', 'c2', 'c3']"
      ]
     },
     "execution_count": 12,
     "metadata": {},
     "output_type": "execute_result"
    }
   ],
   "source": [
    "# Use list comprehension para combinar duas listas: list1 = ['a', 'b', 'c'], list2 = [1, 2, 3], e produzir ['a1', 'a2', 'a3', 'b1', 'b2', 'b3', 'c1', 'c2', 'c3'].\n",
    "list1 = ['a', 'b', 'c']\n",
    "list2 = [1, 2, 3]\n",
    "\n",
    "result = [letter + str(number) for letter in list1 for number in list2]\n",
    "result"
   ]
  },
  {
   "cell_type": "markdown",
   "id": "c55968ca-8d0c-4edd-bcf9-c351b60cc79a",
   "metadata": {},
   "source": [
    "## 3)"
   ]
  },
  {
   "cell_type": "code",
   "execution_count": 15,
   "id": "e31c10ed-7dc4-4175-8fbd-75492510f62e",
   "metadata": {},
   "outputs": [
    {
     "data": {
      "text/plain": [
       "[1, 2, 3, 4, 5]"
      ]
     },
     "execution_count": 15,
     "metadata": {},
     "output_type": "execute_result"
    }
   ],
   "source": [
    "# A partir de uma string s = \"Data123Science45\", use uma list comprehension para extrair todos os caracteres\n",
    "# que sejam dígitos e convertê-los em inteiros (resultado: [1, 2, 3, 4, 5]).\n",
    "\n",
    "s = \"Data123Science45\"\n",
    "\n",
    "result = [int(letter) for letter in s if letter.isdigit()]\n",
    "result"
   ]
  },
  {
   "cell_type": "markdown",
   "id": "6ad835b7-cd6d-4279-a52e-a7e0beed828f",
   "metadata": {},
   "source": [
    "## 4)"
   ]
  },
  {
   "cell_type": "code",
   "execution_count": 22,
   "id": "7030d9d2-3e40-49c4-8d0f-83f859cc3796",
   "metadata": {},
   "outputs": [
    {
     "data": {
      "text/plain": [
       "['apple', 'BANANA', 'CHERRY', 'date']"
      ]
     },
     "execution_count": 22,
     "metadata": {},
     "output_type": "execute_result"
    }
   ],
   "source": [
    "# Dada a lista de strings words = [\"apple\", \"banana\", \"cherry\", \"date\"],\n",
    "# crie uma nova lista com o mesmo conteúdo mas em maiúsculas, exceto as \n",
    "# palavras com menos de 6 letras (essas devem permanecer iguais).\n",
    "\n",
    "words = [\"apple\", \"banana\", \"cherry\", \"date\"]\n",
    "\n",
    "result = [word.upper() if len(word)>=6 else word for word in words]\n",
    "result"
   ]
  },
  {
   "cell_type": "markdown",
   "id": "72149084-9e3d-4eaf-bfb7-e2371abde330",
   "metadata": {},
   "source": [
    "## 5)"
   ]
  },
  {
   "cell_type": "code",
   "execution_count": 27,
   "id": "fa7bd358-7c02-4421-a09b-cd83f2ee392d",
   "metadata": {},
   "outputs": [
    {
     "data": {
      "text/plain": [
       "[3, 7, 11]"
      ]
     },
     "execution_count": 27,
     "metadata": {},
     "output_type": "execute_result"
    }
   ],
   "source": [
    "# Dada uma lista de tuplas pairs = [(1, 2), (3, 4), (5, 6)], use list comprehension para gerar uma lista de somas das tuplas, ou seja, [3, 7, 11].\n",
    "\n",
    "pairs = [(1, 2), (3, 4), (5, 6)]\n",
    "\n",
    "result = [sum(dupla) for dupla in pairs]\n",
    "result"
   ]
  },
  {
   "cell_type": "markdown",
   "id": "33c849d4-fcb6-4f83-8947-8d105b13084d",
   "metadata": {},
   "source": [
    "## 6)"
   ]
  },
  {
   "cell_type": "code",
   "execution_count": 61,
   "id": "bf24045f-50f4-4e40-ba2e-7b9d82e7aad4",
   "metadata": {},
   "outputs": [
    {
     "data": {
      "text/plain": [
       "[0, 1, 1, 2, 3, 5, 8, 13, 21, 34]"
      ]
     },
     "execution_count": 61,
     "metadata": {},
     "output_type": "execute_result"
    }
   ],
   "source": [
    "# Use list comprehension para gerar os 10 primeiros números da sequência de Fibonacci (assumindo que começamos com [0, 1]).\n",
    "\n",
    "fib = [0,1]\n",
    "\n",
    "[fib.append(fib[-1] + fib[-2]) for _ in range(8)]\n",
    "fib"
   ]
  },
  {
   "cell_type": "markdown",
   "id": "8442b3f3-8384-4faf-8396-a478be981844",
   "metadata": {},
   "source": [
    "## 7)"
   ]
  },
  {
   "cell_type": "code",
   "execution_count": 70,
   "id": "67405a79-755d-4fca-b431-bc696d800928",
   "metadata": {},
   "outputs": [
    {
     "data": {
      "text/plain": [
       "[1, 2, 3, 4, 5, 6, 7, 8, 9]"
      ]
     },
     "execution_count": 70,
     "metadata": {},
     "output_type": "execute_result"
    }
   ],
   "source": [
    "# A partir de uma lista de listas matrix = [[1, 2, 3], [4, 5, 6], [7, 8, 9]],\n",
    "# use uma list comprehension dupla para “achatar” (flatten) a matriz em uma única lista: [1, 2, 3, 4, 5, 6, 7, 8, 9].\n",
    "\n",
    "matrix = [[1, 2, 3], [4, 5, 6], [7, 8, 9]]\n",
    "\n",
    "result = [value for line in matrix for value in line]\n",
    "result"
   ]
  },
  {
   "cell_type": "markdown",
   "id": "6ac9a4e9-ba37-4e45-b627-67882e6ce0b5",
   "metadata": {},
   "source": [
    "## 8)"
   ]
  },
  {
   "cell_type": "code",
   "execution_count": 72,
   "id": "47759fc8-c9ba-48be-a1ad-9797b5f12c35",
   "metadata": {},
   "outputs": [
    {
     "data": {
      "text/plain": [
       "[32.0, 50.0, 68.0, 86.0]"
      ]
     },
     "execution_count": 72,
     "metadata": {},
     "output_type": "execute_result"
    }
   ],
   "source": [
    "# Dada a lista temperatures_c = [0, 10, 20, 30], use list comprehension para convertê-la\n",
    "# para Fahrenheit com fórmula F = (C * 9/5) + 32.\n",
    "\n",
    "temperatures_c = [0, 10, 20, 30]\n",
    "\n",
    "result = [(temp*9/5) + 32 for temp in temperatures_c]\n",
    "result"
   ]
  },
  {
   "cell_type": "markdown",
   "id": "af9e0193-0de4-4019-85fc-c20e16bd990f",
   "metadata": {},
   "source": [
    "## 9)"
   ]
  },
  {
   "cell_type": "code",
   "execution_count": 73,
   "id": "68d6d2c6-97f4-4512-87c1-73ac80a7dc1c",
   "metadata": {},
   "outputs": [
    {
     "data": {
      "text/plain": [
       "['1', '2', '4']"
      ]
     },
     "execution_count": 73,
     "metadata": {},
     "output_type": "execute_result"
    }
   ],
   "source": [
    "# A partir de uma lista data = [\"1\", \"2\", \"three\", \"4\", \"five\"], use list comprehension para tentar converter \n",
    "# em inteiros os elementos que forem dígitos válidos, e ignorar (filtrar) os\n",
    "# que não puderem ser convertidos (resultado: [1, 2, 4]).\n",
    "\n",
    "data = [\"1\", \"2\", \"three\", \"4\", \"five\"]\n",
    "\n",
    "result = [value for value in data if value.isdigit()]\n",
    "result"
   ]
  },
  {
   "cell_type": "markdown",
   "id": "d9bb6659-da58-4808-8b9a-6506125a3dea",
   "metadata": {},
   "source": [
    "## 10)"
   ]
  },
  {
   "cell_type": "code",
   "execution_count": 78,
   "id": "6289a21b-fd25-4a30-b342-5e13ded0101f",
   "metadata": {},
   "outputs": [
    {
     "data": {
      "text/plain": [
       "[(1, 1), (2, 2), (3, 1)]"
      ]
     },
     "execution_count": 78,
     "metadata": {},
     "output_type": "execute_result"
    }
   ],
   "source": [
    "# Use list comprehension para gerar (i, j) pares para i variando de 1 a 3 e j de 1 a 2, mas\n",
    "# apenas aqueles pares cuja soma i + j seja par. Resultado esperado: [(1,1), (2,2), (3,1), (3,3)?]\n",
    "# — ajustar de acordo com o critério.\n",
    "\n",
    "result = [(i,j) for i in range(1,4) for j in range(1,3) if (i+j) % 2 == 0]\n",
    "result"
   ]
  }
 ],
 "metadata": {
  "kernelspec": {
   "display_name": "Python 3 (ipykernel)",
   "language": "python",
   "name": "python3"
  },
  "language_info": {
   "codemirror_mode": {
    "name": "ipython",
    "version": 3
   },
   "file_extension": ".py",
   "mimetype": "text/x-python",
   "name": "python",
   "nbconvert_exporter": "python",
   "pygments_lexer": "ipython3",
   "version": "3.13.1"
  }
 },
 "nbformat": 4,
 "nbformat_minor": 5
}
