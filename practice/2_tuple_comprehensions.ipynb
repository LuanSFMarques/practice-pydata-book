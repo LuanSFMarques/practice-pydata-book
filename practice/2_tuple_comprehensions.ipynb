{
 "cells": [
  {
   "cell_type": "markdown",
   "id": "f06c852c-95c8-4d2e-a48a-717fbf4d72f7",
   "metadata": {},
   "source": [
    "## Exercícios de \"tuple comprehensions\" (5)\n",
    "\n",
    "*Note: Python não tem tuple comprehension direto, mas você pode usar uma generator expression e converter com tuple(...). Então os exercícios abaixo sugerem esse uso.*\n",
    "\n",
    "1. Usando generator expression, gere os quadrados dos números de 0 a 9, e converta o resultado em tupla.\n",
    "\n",
    "2. A partir de nums = [2, 3, 5, 7, 11, 13], crie uma generator expression que multiplique cada número por 2, e transforme em tupla.\n",
    "\n",
    "3. Usando generator expression + filtragem, de nums = range(20) crie uma tupla com apenas os números divisíveis por 3 ou por 5.\n",
    "\n",
    "4. Dada a string s = \"abracadabra\", use uma generator expression para extrair as letras que aparecem no final da string (por exemplo, as três últimas) e transforme em tupla.\n",
    "\n",
    "5. A partir de uma lista de listas aninhadas lst = [[1, 2], [3, 4], [5, 6]], use generator expression para produzir uma tupla contendo todos os elementos (isto é, “achatado” em tupla: (1,2,3,4,5,6))."
   ]
  },
  {
   "cell_type": "markdown",
   "id": "b04f4155-b7e5-425a-955c-9ad9a7073c34",
   "metadata": {},
   "source": [
    "## 1)"
   ]
  },
  {
   "cell_type": "code",
   "execution_count": 5,
   "id": "d0568492-9d69-428f-929c-586a3cd4c032",
   "metadata": {},
   "outputs": [
    {
     "data": {
      "text/plain": [
       "{0, 1, 4, 9, 16, 25, 36, 49, 64, 81}"
      ]
     },
     "execution_count": 5,
     "metadata": {},
     "output_type": "execute_result"
    }
   ],
   "source": [
    "# Usando generator expression, gere os quadrados dos números de 0 a 9, e converta o resultado em tupla.\n",
    "\n",
    "result = {num**2 for num in range(10)}\n",
    "result"
   ]
  },
  {
   "cell_type": "markdown",
   "id": "3ac04ee7-262d-417a-9c86-3906374f857f",
   "metadata": {},
   "source": [
    "## 2)"
   ]
  },
  {
   "cell_type": "code",
   "execution_count": 6,
   "id": "9c2e8213-07c2-48e1-8b24-fe9a367e8d13",
   "metadata": {},
   "outputs": [
    {
     "data": {
      "text/plain": [
       "{4, 6, 10, 14, 22, 26}"
      ]
     },
     "execution_count": 6,
     "metadata": {},
     "output_type": "execute_result"
    }
   ],
   "source": [
    "# A partir de nums = [2, 3, 5, 7, 11, 13], crie uma generator expression que multiplique cada número por 2, e transforme em tupla.\n",
    "\n",
    "nums = [2, 3, 5, 7, 11, 13]\n",
    "\n",
    "result = {num*2 for num in nums}\n",
    "result"
   ]
  },
  {
   "cell_type": "markdown",
   "id": "c6e1dce6-a3db-4219-9adb-b7320d9b74f0",
   "metadata": {},
   "source": [
    "## 3)"
   ]
  },
  {
   "cell_type": "code",
   "execution_count": 8,
   "id": "47450020-913b-458e-b056-4a6b7226ec55",
   "metadata": {},
   "outputs": [
    {
     "data": {
      "text/plain": [
       "{0, 3, 5, 6, 9, 10, 12, 15, 18}"
      ]
     },
     "execution_count": 8,
     "metadata": {},
     "output_type": "execute_result"
    }
   ],
   "source": [
    "# Usando generator expression + filtragem, de nums = range(20) crie uma tupla com apenas os números divisíveis por 3 ou por 5.\n",
    "\n",
    "result = {num for num in range(20) if num % 3 == 0 or num % 5 == 0}\n",
    "result"
   ]
  },
  {
   "cell_type": "markdown",
   "id": "eca205d9-f003-4628-8ce1-e46de91bf779",
   "metadata": {},
   "source": [
    "## 4)"
   ]
  },
  {
   "cell_type": "code",
   "execution_count": 12,
   "id": "ccf55e5e-be48-4e2f-86af-60c1599ac9dd",
   "metadata": {},
   "outputs": [
    {
     "data": {
      "text/plain": [
       "{'a', 'b', 'r'}"
      ]
     },
     "execution_count": 12,
     "metadata": {},
     "output_type": "execute_result"
    }
   ],
   "source": [
    "# Dada a string s = \"abracadabra\", use uma generator expression para extrair as letras que aparecem\n",
    "# no final da string (por exemplo, as três últimas) e transforme em tupla.\n",
    "\n",
    "s = \"abracadabra\"\n",
    "\n",
    "result = {word for word in s[-3:]}\n",
    "result"
   ]
  },
  {
   "cell_type": "markdown",
   "id": "d6520be3-ee31-4149-bd56-98ffa7fca82b",
   "metadata": {},
   "source": [
    "## 5)"
   ]
  },
  {
   "cell_type": "code",
   "execution_count": 14,
   "id": "a00f6864-30de-4547-914a-e6fa142ca2a6",
   "metadata": {},
   "outputs": [
    {
     "data": {
      "text/plain": [
       "{1, 2, 3, 4, 5, 6}"
      ]
     },
     "execution_count": 14,
     "metadata": {},
     "output_type": "execute_result"
    }
   ],
   "source": [
    "# A partir de uma lista de listas aninhadas lst = [[1, 2], [3, 4], [5, 6]], use generator\n",
    "# expression para produzir uma tupla contendo todos os elementos (isto é, “achatado” em tupla: (1,2,3,4,5,6)).\n",
    "\n",
    "lst = [[1, 2], [3, 4], [5, 6]]\n",
    "\n",
    "result = {value for line in lst for value in line}\n",
    "result"
   ]
  }
 ],
 "metadata": {
  "kernelspec": {
   "display_name": "Python 3 (ipykernel)",
   "language": "python",
   "name": "python3"
  },
  "language_info": {
   "codemirror_mode": {
    "name": "ipython",
    "version": 3
   },
   "file_extension": ".py",
   "mimetype": "text/x-python",
   "name": "python",
   "nbconvert_exporter": "python",
   "pygments_lexer": "ipython3",
   "version": "3.13.1"
  }
 },
 "nbformat": 4,
 "nbformat_minor": 5
}
